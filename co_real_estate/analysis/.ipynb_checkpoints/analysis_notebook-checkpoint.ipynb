{
 "cells": [
  {
   "cell_type": "code",
   "execution_count": 1,
   "id": "1ee21939",
   "metadata": {},
   "outputs": [],
   "source": [
    "import csv\n",
    "import statistics"
   ]
  },
  {
   "cell_type": "code",
   "execution_count": null,
   "id": "c8fcd668",
   "metadata": {},
   "outputs": [],
   "source": [
    "# Assumptions and To Dos:\n",
    "# - Missing data is replaced with a 0. This should be replaced with a surrounding \"average\" \n",
    "#   or somehow disregarded in calculations\n",
    "\n",
    "# Other assumptions are written under each question\n",
    "\n",
    "# Note\n",
    "# This is so difficult to do without pandas!\n",
    "# I am largely relying on list locations to perform analysis"
   ]
  },
  {
   "cell_type": "code",
   "execution_count": 2,
   "id": "b8286df4",
   "metadata": {},
   "outputs": [],
   "source": [
    "# change as needed\n",
    "abs_path = '/Users/annelise/sandbox/co_real_estate'\n",
    "residence = 'Neighborhood_Zhvi_SingleFamilyResidence.csv'\n",
    "rentals = 'Neighborhood_Zri_SingleFamilyResidenceRental.csv'"
   ]
  },
  {
   "cell_type": "code",
   "execution_count": 5,
   "id": "e1ff42ba",
   "metadata": {},
   "outputs": [],
   "source": [
    "def get_data(type: str, state: str='CO', county: str=None) -> tuple[dict, dict, dict]:\n",
    "    \"\"\"\n",
    "    Queries the appropriate file (residence of rentals) for the specified state or country\n",
    "    \n",
    "    Returns three dictionaries:\n",
    "    metadata: the information about the RegionID\n",
    "    data: the regionID and values for each month; 0 is inputted for missing data for now\n",
    "    iloc: a way to lookup the region from the original `iloc` \"\"\"\n",
    "    \n",
    "    temp_data = []\n",
    "    data = {}\n",
    "    metadata = {}\n",
    "    iloc_dict = {}\n",
    "\n",
    "    assert type in ['residence', 'rentals']\n",
    "\n",
    "    # read file\n",
    "    with open(f'{abs_path}/data/{eval(type)}', 'r') as file:\n",
    "        csv_reader = csv.DictReader(file, delimiter=',')\n",
    "        for row in csv_reader:\n",
    "            temp_data.append(row)\n",
    "\n",
    "    # rows to clean\n",
    "    string_rows = ['RegionID', 'RegionName', 'City', 'State', 'Metro', 'CountyName']\n",
    "    rank_rows = ['SizeRank']\n",
    "    # make default empty list for each \"column\"\n",
    "    keys = string_rows + rank_rows\n",
    "    for key in keys:\n",
    "        metadata.setdefault(key, [])\n",
    "\n",
    "    # merge dictionaries into 1 dictionary with structure {key1: [value1, value2, value3], key2: [a1, a2, a3]}\n",
    "    # assuming zeroes for missing data\n",
    "    # filter out for appropriate state/county data\n",
    "    iloc_count = 0\n",
    "    for dictionary in temp_data:\n",
    "        if dictionary['State'] != state:\n",
    "            continue\n",
    "        if county:\n",
    "            if dictionary['CountyName'] != county:\n",
    "                continue\n",
    "        iloc_dict[iloc_count] = dictionary['RegionID'] + ' ' + dictionary['RegionName'] +' ' + dictionary['City']+' '+dictionary['Metro']\n",
    "        iloc_count += 1\n",
    "        data[dictionary['RegionID']] = []\n",
    "        for k, v in dictionary.items():\n",
    "            if k not in string_rows and k not in rank_rows:\n",
    "                v = int(v) if v else 0\n",
    "                data[dictionary['RegionID']] = data[dictionary['RegionID']] + [v]\n",
    "            if k in keys:\n",
    "                metadata[k] = metadata[k] + [v]\n",
    "\n",
    "    return metadata, data, iloc_dict"
   ]
  },
  {
   "cell_type": "code",
   "execution_count": 6,
   "id": "5da9ad2b",
   "metadata": {},
   "outputs": [],
   "source": [
    "# Query the data to answer the required questions\n",
    "colorado_residence_metadata, colorado_residence_data, colorado_residence_iloc = get_data('residence', 'CO')\n",
    "boulder_residence_metadata, boulder_residence_data, boulder_residence_iloc = get_data('residence', 'CO', 'Boulder')\n",
    "colorado_rentals_metadata, colorado_rentals_data, colorado_rentals_iloc = get_data('rentals', 'CO')\n",
    "\n"
   ]
  },
  {
   "cell_type": "code",
   "execution_count": 8,
   "id": "6ec265f5",
   "metadata": {},
   "outputs": [
    {
     "name": "stdout",
     "output_type": "stream",
     "text": [
      "The top 5 neighborhoods in Colorado that have the highest median home value in the last 3 years are: \n",
      "416092 Mapleton Hill Boulder Boulder with median value $1392100.0\n",
      "268646 Country Club Denver Denver with median value $1256250.0\n",
      "416076 East Chautauqua Boulder Boulder with median value $1209700.0\n",
      "416099 Newlands Boulder Boulder with median value $1099300.0\n",
      "416069 Shanahan Ridge Boulder Boulder with median value $1085850.0\n"
     ]
    }
   ],
   "source": [
    "# 1. Using the most recent data available in these csv files, what neighborhoods in Colorado have the highest median home value?`\n",
    "\n",
    "\n",
    "# Assuming most recent data = 3 years, 36 months\n",
    "months_lookback = 36\n",
    "medians = {}\n",
    "for k, v in colorado_residence_data.items():\n",
    "    medians[k] = statistics.median(v[-months_lookback:])\n",
    "\n",
    "# top five medians\n",
    "find_medians = list(medians.values())\n",
    "find_medians.sort(reverse=True)\n",
    "max_medians = find_medians[0:5]\n",
    "\n",
    "max_median_regions = []\n",
    "print('The top 5 neighborhoods in Colorado that have the highest median home value in the last 3 years are: ')\n",
    "for i in max_medians:\n",
    "    n = list(medians.values()).index(i)\n",
    "    print(f'{colorado_residence_iloc[n]} with median value ${i}')"
   ]
  },
  {
   "cell_type": "code",
   "execution_count": 13,
   "id": "8167fc90",
   "metadata": {},
   "outputs": [
    {
     "name": "stdout",
     "output_type": "stream",
     "text": [
      "The top 5 neighborhoods in Colorado that have the largest has increases (%) over the last two years are: \n",
      "268633 Chaffee Park Denver Denver with percentage increase 34.31%\n",
      "268659 Elyria Swansea Denver Denver with percentage increase 34.2%\n",
      "268768 Villa Park Denver Denver with percentage increase 34.14%\n",
      "268614 Barnum Denver Denver with percentage increase 32.47%\n",
      "403509 College View - South Platte Denver Denver with percentage increase 32.39%\n"
     ]
    }
   ],
   "source": [
    "# 2. What are the top 5 neighborhoods in Colorado, ranked by how much the home price has increased (%) over the last two years.\n",
    "months_lookback = 24\n",
    "increases = {}\n",
    "for k, v in colorado_residence_data.items():\n",
    "    increases[k] = (v[-1]-v[-months_lookback])/v[-months_lookback]\n",
    "    \n",
    "# top five increases\n",
    "find_increases = list(increases.values())\n",
    "find_increases.sort(reverse=True)\n",
    "max_increases = find_increases[0:5]\n",
    "\n",
    "max_increase_regions = []\n",
    "print('The top 5 neighborhoods in Colorado that have the largest has increases (%) over the last two years are: ')\n",
    "for i in max_increases:\n",
    "    n = list(increases.values()).index(i)\n",
    "    pct = '{0:.4g}'.format(i*100)\n",
    "    print(f'{colorado_residence_iloc[n]} with percentage increase {pct}%')\n",
    "    "
   ]
  },
  {
   "cell_type": "code",
   "execution_count": 16,
   "id": "4132a6c8",
   "metadata": {},
   "outputs": [],
   "source": [
    "# 3. What neighborhoods (top 5 again) in Colorado have the highest ratio of rental income to home value. \n",
    "\n",
    "# Assumptions:\n",
    "# This ratio should be current so:\n",
    "# Using the average of the last 12 months of data for both the rental and residences\n",
    "\n",
    "months_lookback = 12\n",
    "residences = {}\n",
    "rentals = {}\n",
    "rental_res_ratio = {}\n",
    "\n",
    "for k, v in colorado_residence_data.items():\n",
    "    residences[k] = statistics.median(v[-months_lookback:])\n",
    "\n",
    "residences = {}\n",
    "for k, v in colorado_rentals_data.items():\n",
    "    rentals[k] = statistics.median(v[-months_lookback:])\n",
    "    \n",
    "# make ratios:\n",
    "for k, v in residences:\n",
    "    if rentals.get(k):\n",
    "        rental_res_ratio[k] = \n",
    "    else:\n",
    "        rental_res_ratio[k] = 0\n"
   ]
  },
  {
   "cell_type": "code",
   "execution_count": 15,
   "id": "bf74a114",
   "metadata": {},
   "outputs": [],
   "source": [
    "# 4. A real-estate investor has come to you with money to invest in Boulder County. \n",
    "# What neighborhood would you suggest she invest in? Use the data to justify your answer \n",
    "# and provide a quick estimate of her ROI after 3 years. \n",
    "\n",
    "# Ran out of time.\n",
    "\n",
    "# I would have used a similar method as #2, looking at the total % increase for the past n months.\n",
    "\n",
    "# For ROI:\n",
    "# I would have analyzed this by researching any time-series available methods in the `statistics` package \n",
    "# and performing that analysis on the last n months of data for each RegionID in Colorado and extrapolated for \n",
    "# the next 3 years"
   ]
  },
  {
   "cell_type": "code",
   "execution_count": null,
   "id": "9e1243fe",
   "metadata": {},
   "outputs": [],
   "source": [
    "# 5. How much more money could this investor make if she were willing to invest in other markets in Colorado? \n",
    "\n",
    "# Ran out of time.\n",
    "# I would have analyzed this by using the same ROI method from above."
   ]
  }
 ],
 "metadata": {
  "kernelspec": {
   "display_name": "Python 3 (ipykernel)",
   "language": "python",
   "name": "python3"
  },
  "language_info": {
   "codemirror_mode": {
    "name": "ipython",
    "version": 3
   },
   "file_extension": ".py",
   "mimetype": "text/x-python",
   "name": "python",
   "nbconvert_exporter": "python",
   "pygments_lexer": "ipython3",
   "version": "3.9.7"
  }
 },
 "nbformat": 4,
 "nbformat_minor": 5
}

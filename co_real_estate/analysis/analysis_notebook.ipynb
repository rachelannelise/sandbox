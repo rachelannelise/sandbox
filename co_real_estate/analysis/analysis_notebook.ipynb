{
 "cells": [
  {
   "cell_type": "code",
   "execution_count": 1,
   "id": "248a1732",
   "metadata": {},
   "outputs": [],
   "source": [
    "import csv\n",
    "import statistics"
   ]
  },
  {
   "cell_type": "code",
   "execution_count": null,
   "id": "ba037e4c",
   "metadata": {},
   "outputs": [],
   "source": [
    "# Assumptions and To Dos:\n",
    "# - Missing data is replaced with a 0. This should be replaced with a surrounding \"average\" \n",
    "#   or somehow disregarded in calculations\n",
    "\n",
    "# Other assumptions are written under each question\n",
    "\n",
    "# Note\n",
    "# This is so difficult to do without pandas!\n",
    "# I am largely relying on list locations to perform analysis"
   ]
  },
  {
   "cell_type": "code",
   "execution_count": 2,
   "id": "ca802761",
   "metadata": {},
   "outputs": [],
   "source": [
    "# change as needed\n",
    "abs_path = '/Users/annelise/sandbox/co_real_estate'\n",
    "residence = 'Neighborhood_Zhvi_SingleFamilyResidence.csv'\n",
    "rentals = 'Neighborhood_Zri_SingleFamilyResidenceRental.csv'"
   ]
  },
  {
   "cell_type": "code",
   "execution_count": 5,
   "id": "a6f9bf24",
   "metadata": {},
   "outputs": [],
   "source": [
    "def get_data(type: str, state: str='CO', county: str=None) -> tuple[dict, dict, dict]:\n",
    "    \"\"\"\n",
    "    Queries the appropriate file (residence of rentals) for the specified state or country\n",
    "    \n",
    "    Returns three dictionaries:\n",
    "    metadata: the information about the RegionID\n",
    "    data: the regionID and values for each month; 0 is inputted for missing data for now\n",
    "    iloc: a way to lookup the region from the original `iloc` \"\"\"\n",
    "    \n",
    "    temp_data = []\n",
    "    data = {}\n",
    "    metadata = {}\n",
    "    iloc_dict = {}\n",
    "\n",
    "    assert type in ['residence', 'rentals']\n",
    "\n",
    "    # read file\n",
    "    with open(f'{abs_path}/data/{eval(type)}', 'r') as file:\n",
    "        csv_reader = csv.DictReader(file, delimiter=',')\n",
    "        for row in csv_reader:\n",
    "            temp_data.append(row)\n",
    "\n",
    "    # rows to clean\n",
    "    string_rows = ['RegionID', 'RegionName', 'City', 'State', 'Metro', 'CountyName']\n",
    "    rank_rows = ['SizeRank']\n",
    "    # make default empty list for each \"column\"\n",
    "    keys = string_rows + rank_rows\n",
    "    for key in keys:\n",
    "        metadata.setdefault(key, [])\n",
    "\n",
    "    # merge dictionaries into 1 dictionary with structure {key1: [value1, value2, value3], key2: [a1, a2, a3]}\n",
    "    # assuming zeroes for missing data\n",
    "    # filter out for appropriate state/county data\n",
    "    iloc_count = 0\n",
    "    for dictionary in temp_data:\n",
    "        if dictionary['State'] != state:\n",
    "            continue\n",
    "        if county:\n",
    "            if dictionary['CountyName'] != county:\n",
    "                continue\n",
    "        iloc_dict[iloc_count] = dictionary['RegionID'] + ' ' + dictionary['RegionName'] +' ' + dictionary['City']+' '+dictionary['Metro']\n",
    "        iloc_count += 1\n",
    "        data[dictionary['RegionID']] = []\n",
    "        for k, v in dictionary.items():\n",
    "            if k not in string_rows and k not in rank_rows:\n",
    "                v = int(v) if v else 0\n",
    "                data[dictionary['RegionID']] = data[dictionary['RegionID']] + [v]\n",
    "            if k in keys:\n",
    "                metadata[k] = metadata[k] + [v]\n",
    "\n",
    "    return metadata, data, iloc_dict"
   ]
  },
  {
   "cell_type": "code",
   "execution_count": 6,
   "id": "0cf5a027",
   "metadata": {},
   "outputs": [],
   "source": [
    "# Query the data to answer the required questions\n",
    "colorado_residence_metadata, colorado_residence_data, colorado_residence_iloc = get_data('residence', 'CO')\n",
    "boulder_residence_metadata, boulder_residence_data, boulder_residence_iloc = get_data('residence', 'CO', 'Boulder')\n",
    "colorado_rentals_metadata, colorado_rentals_data, colorado_rentals_iloc = get_data('rentals', 'CO')\n",
    "\n"
   ]
  },
  {
   "cell_type": "code",
   "execution_count": 8,
   "id": "4b1b0347",
   "metadata": {},
   "outputs": [
    {
     "name": "stdout",
     "output_type": "stream",
     "text": [
      "The top 5 neighborhoods in Colorado that have the highest median home value in the last 3 years are: \n",
      "416092 Mapleton Hill Boulder Boulder with median value $1392100.0\n",
      "268646 Country Club Denver Denver with median value $1256250.0\n",
      "416076 East Chautauqua Boulder Boulder with median value $1209700.0\n",
      "416099 Newlands Boulder Boulder with median value $1099300.0\n",
      "416069 Shanahan Ridge Boulder Boulder with median value $1085850.0\n"
     ]
    }
   ],
   "source": [
    "# 1. Using the most recent data available in these csv files, what neighborhoods in Colorado have the highest median home value?`\n",
    "\n",
    "\n",
    "# Assuming most recent data = 3 years, 36 months\n",
    "months_lookback = 36\n",
    "medians = {}\n",
    "for k, v in colorado_residence_data.items():\n",
    "    medians[k] = statistics.median(v[-months_lookback:])\n",
    "\n",
    "# top five medians\n",
    "find_medians = list(medians.values())\n",
    "find_medians.sort(reverse=True)\n",
    "max_medians = find_medians[0:5]\n",
    "\n",
    "max_median_regions = []\n",
    "print('The top 5 neighborhoods in Colorado that have the highest median home value in the last 3 years are: ')\n",
    "for i in max_medians:\n",
    "    n = list(medians.values()).index(i)\n",
    "    print(f'{colorado_residence_iloc[n]} with median value ${i}')"
   ]
  },
  {
   "cell_type": "code",
   "execution_count": 18,
   "id": "925c4e49",
   "metadata": {},
   "outputs": [
    {
     "name": "stdout",
     "output_type": "stream",
     "text": [
      "The top 5 neighborhoods in Colorado that have the largest increases (%) over the last two years are: \n",
      "268633 Chaffee Park Denver Denver with percentage increase 34.31%\n",
      "268659 Elyria Swansea Denver Denver with percentage increase 34.2%\n",
      "268768 Villa Park Denver Denver with percentage increase 34.14%\n",
      "268614 Barnum Denver Denver with percentage increase 32.47%\n",
      "403509 College View - South Platte Denver Denver with percentage increase 32.39%\n"
     ]
    }
   ],
   "source": [
    "# 2. What are the top 5 neighborhoods in Colorado, ranked by how much the home price has increased (%) over the last two years.\n",
    "months_lookback = 24\n",
    "increases = {}\n",
    "for k, v in colorado_residence_data.items():\n",
    "    increases[k] = (v[-1]-v[-months_lookback])/v[-months_lookback]\n",
    "    \n",
    "# top five increases\n",
    "find_increases = list(increases.values())\n",
    "find_increases.sort(reverse=True)\n",
    "max_increases = find_increases[0:5]\n",
    "\n",
    "max_increase_regions = []\n",
    "print('The top 5 neighborhoods in Colorado that have the largest increases (%) over the last two years are: ')\n",
    "for i in max_increases:\n",
    "    n = list(increases.values()).index(i)\n",
    "    pct = '{0:.4g}'.format(i*100)\n",
    "    print(f'{colorado_residence_iloc[n]} with percentage increase {pct}%')\n",
    "    "
   ]
  },
  {
   "cell_type": "code",
   "execution_count": 23,
   "id": "23b2262b",
   "metadata": {},
   "outputs": [
    {
     "name": "stdout",
     "output_type": "stream",
     "text": [
      "The top 5 neighborhoods in Colorado that have the largest rental to home value ratio over the last 12 months are: \n",
      "268664 Globeville Denver Denver with ratio 0.6779\n",
      "6018 Montbello Denver Denver with ratio 0.665\n",
      "268659 Elyria Swansea Denver Denver with ratio 0.6644\n",
      "342737 North Aurora Aurora Denver with ratio 0.6615\n",
      "275471 Southeast Colorado Springs Colorado Springs Colorado Springs with ratio 0.6572\n"
     ]
    }
   ],
   "source": [
    "# 3. What neighborhoods (top 5 again) in Colorado have the highest ratio of rental income to home value. \n",
    "\n",
    "# Assumptions:\n",
    "# This ratio should be current so:\n",
    "# Using the average of the last 12 months of data for both the rental and residences\n",
    "\n",
    "months_lookback = 12\n",
    "residences = {}\n",
    "rentals = {}\n",
    "rental_res_ratio = {}\n",
    "\n",
    "for k, v in colorado_residence_data.items():\n",
    "    residences[k] = statistics.mean(v[-months_lookback:])\n",
    "\n",
    "for k, v in colorado_rentals_data.items():\n",
    "    rentals[k] = statistics.mean(v[-months_lookback:])\n",
    "    \n",
    "# make ratios:\n",
    "for k, v in residences.items():\n",
    "    if rentals.get(k):\n",
    "        rental_res_ratio[k] = rentals[k]/residences[k]\n",
    "    else:\n",
    "        rental_res_ratio[k] = 0\n",
    "        \n",
    "# top five ratios\n",
    "find_ratios = list(rental_res_ratio.values())\n",
    "find_ratios.sort(reverse=True)\n",
    "max_ratios = find_ratios[0:5]\n",
    "\n",
    "max_ratio_regions = []\n",
    "print('The top 5 neighborhoods in Colorado that have the largest rental to home value ratio over the last 12 months are: ')\n",
    "for i in max_ratios:\n",
    "    n = list(rental_res_ratio.values()).index(i)\n",
    "    ratio = '{0:.4g}'.format(i*100)\n",
    "    print(f'{colorado_residence_iloc[n]} with ratio {ratio}')\n",
    "    "
   ]
  },
  {
   "cell_type": "code",
   "execution_count": 32,
   "id": "04a3731a",
   "metadata": {},
   "outputs": [
    {
     "name": "stdout",
     "output_type": "stream",
     "text": [
      "The top 5 neighborhoods in Boulder might be good investments that have the largest increases (%) over the last two years are: \n",
      "416092 Mapleton Hill Boulder Boulder with percentage increase 18.87%\n",
      "416085 East Aurora Boulder Boulder with percentage increase 18.69%\n",
      "416088 University Hill Boulder Boulder with percentage increase 17.86%\n",
      "416076 East Chautauqua Boulder Boulder with percentage increase 16.75%\n",
      "416099 Newlands Boulder Boulder with percentage increase 13.45%\n",
      "\n",
      "\n",
      "I would suggest she invest in the fastest growing neighborhood in the past 24 months, Mapleton Hill which had an ROI in the past 2 years of 19%. However, it does depend on her budget.\n"
     ]
    }
   ],
   "source": [
    "# 4. A real-estate investor has come to you with money to invest in Boulder County. \n",
    "# What neighborhood would you suggest she invest in? Use the data to justify your answer \n",
    "# and provide a quick estimate of her ROI after 3 years. \n",
    "\n",
    "# For simplicity and because I'm running out of time,\n",
    "# I used a similar method as #2, looking at the total % increase for the past n months.\n",
    "\n",
    "# For the ROI part of the question, I would use the % increase for the past n months, again because I'm out of time.\n",
    "\n",
    "months_lookback = 24\n",
    "increases = {}\n",
    "for k, v in boulder_residence_data.items():\n",
    "    increases[k] = (v[-1]-v[-months_lookback])/v[-months_lookback]\n",
    "    \n",
    "# top five increases\n",
    "find_increases = list(increases.values())\n",
    "find_increases.sort(reverse=True)\n",
    "max_increases = find_increases[0:5]\n",
    "\n",
    "max_increase_regions = []\n",
    "print('The top 5 neighborhoods in Boulder might be good investments that have the largest increases (%) over the last two years are: ')\n",
    "for i in max_increases:\n",
    "    n = list(increases.values()).index(i)\n",
    "    pct = '{0:.4g}'.format(i*100)\n",
    "    print(f'{boulder_residence_iloc[n]} with percentage increase {pct}%')\n",
    "    \n",
    "print(\"\\n\")\n",
    "print(\"I would suggest she invest in the fastest growing neighborhood in the past 24 months, Mapleton Hill which had an ROI in the past 2 years of 19%. However, it does depend on her budget.\")\n",
    "    "
   ]
  },
  {
   "cell_type": "code",
   "execution_count": 35,
   "id": "95a9813b",
   "metadata": {},
   "outputs": [
    {
     "name": "stdout",
     "output_type": "stream",
     "text": [
      "The top 5 neighborhoods in Colorado that have the largest increases (%) over the last two years are: \n",
      "268633 Chaffee Park Denver Denver with percentage increase 34.31%\n",
      "268659 Elyria Swansea Denver Denver with percentage increase 34.2%\n",
      "268768 Villa Park Denver Denver with percentage increase 34.14%\n",
      "268614 Barnum Denver Denver with percentage increase 32.47%\n",
      "403509 College View - South Platte Denver Denver with percentage increase 32.39%\n",
      "\n",
      "\n",
      "This shows that in the past 24 months, the neighborhoods with the top 5 ROI in Colorado were not in Boulder, and she could make up to 14% more (34%-19%) by diversifying out of Boulder.\n"
     ]
    }
   ],
   "source": [
    "# 5. How much more money could this investor make if she were willing to invest in other markets in Colorado? \n",
    "\n",
    "# Running out of time.\n",
    "# With more time, I would research time-series analysis in the statistics package\n",
    "# Copying the code from #2 \n",
    "months_lookback = 24\n",
    "increases = {}\n",
    "for k, v in colorado_residence_data.items():\n",
    "    increases[k] = (v[-1]-v[-months_lookback])/v[-months_lookback]\n",
    "    \n",
    "# top five increases\n",
    "find_increases = list(increases.values())\n",
    "find_increases.sort(reverse=True)\n",
    "max_increases = find_increases[0:5]\n",
    "\n",
    "max_increase_regions = []\n",
    "print('The top 5 neighborhoods in Colorado that have the largest increases (%) over the last two years are: ')\n",
    "for i in max_increases:\n",
    "    n = list(increases.values()).index(i)\n",
    "    pct = '{0:.4g}'.format(i*100)\n",
    "    print(f'{colorado_residence_iloc[n]} with percentage increase {pct}%')\n",
    "\n",
    "print(\"\\n\")\n",
    "print(\"This shows that in the past 24 months, the neighborhoods with the top 5 ROI in Colorado were not in Boulder, and she could make up to 14% more (34%-19%) by diversifying out of Boulder.\")\n",
    " "
   ]
  },
  {
   "cell_type": "code",
   "execution_count": null,
   "id": "64c2e192",
   "metadata": {},
   "outputs": [],
   "source": []
  }
 ],
 "metadata": {
  "kernelspec": {
   "display_name": "Python 3 (ipykernel)",
   "language": "python",
   "name": "python3"
  },
  "language_info": {
   "codemirror_mode": {
    "name": "ipython",
    "version": 3
   },
   "file_extension": ".py",
   "mimetype": "text/x-python",
   "name": "python",
   "nbconvert_exporter": "python",
   "pygments_lexer": "ipython3",
   "version": "3.9.7"
  }
 },
 "nbformat": 4,
 "nbformat_minor": 5
}
